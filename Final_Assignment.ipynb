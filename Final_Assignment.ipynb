{
 "cells": [
  {
   "cell_type": "markdown",
   "id": "e4d6dafe-5053-4f4a-8abc-02bc69b90267",
   "metadata": {},
   "source": [
    "# My Jupyter Notebook on IBM Watson Studio"
   ]
  },
  {
   "cell_type": "markdown",
   "id": "0eb370ba-9a0e-421e-8afa-92fb1a3570e4",
   "metadata": {},
   "source": [
    "**Johny Kalim**\n",
    "\n",
    "Data scientist"
   ]
  },
  {
   "cell_type": "markdown",
   "id": "94d6bdca-5d4c-46a8-ae8a-d5d2a9db8963",
   "metadata": {},
   "source": [
    "_I am interested in data science because I like working with numbers. I desire to become a data scientist as I believe I think analytically and it would be a great fit for my skills._"
   ]
  },
  {
   "cell_type": "markdown",
   "id": "befced13-4c21-44b6-a850-32a8e5c37d61",
   "metadata": {},
   "source": [
    "### My code in cell 5 is supposed to multiply x by y and return the value. "
   ]
  },
  {
   "cell_type": "code",
   "execution_count": 1,
   "id": "38f65b10-65d2-4758-a6d4-29321f03cf41",
   "metadata": {},
   "outputs": [
    {
     "name": "stdout",
     "output_type": "stream",
     "text": [
      "72\n"
     ]
    }
   ],
   "source": [
    "x = 12\n",
    "y = 6\n",
    "a = x*y\n",
    "print(a)"
   ]
  },
  {
   "cell_type": "markdown",
   "id": "1a19c5d8-eee1-4fd5-8b71-0508b396805c",
   "metadata": {},
   "source": [
    "### Table below contains the following:\n",
    "\n",
    " - First Name\n",
    " - Last Name \n",
    " - User ID\n",
    "\n",
    "\n",
    "| First Name | Last Name | ID |\n",
    "| ------ | ------ | ------ |\n",
    "| John | Cobra | JC-001 |\n",
    "| Mark | Davis | MD-002 |\n",
    "| Jean | Thompson | JT-003 |\n",
    "\n",
    "\n",
    "> List may change soon. \n"
   ]
  },
  {
   "cell_type": "code",
   "execution_count": null,
   "id": "a22b85c2-9fa6-4eae-903d-7d0e460d37a3",
   "metadata": {},
   "outputs": [],
   "source": []
  }
 ],
 "metadata": {
  "kernelspec": {
   "display_name": "Python",
   "language": "python",
   "name": "conda-env-python-py"
  },
  "language_info": {
   "codemirror_mode": {
    "name": "ipython",
    "version": 3
   },
   "file_extension": ".py",
   "mimetype": "text/x-python",
   "name": "python",
   "nbconvert_exporter": "python",
   "pygments_lexer": "ipython3",
   "version": "3.7.12"
  }
 },
 "nbformat": 4,
 "nbformat_minor": 5
}
